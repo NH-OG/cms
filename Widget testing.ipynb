{
 "cells": [
  {
   "cell_type": "code",
   "execution_count": 1,
   "metadata": {},
   "outputs": [],
   "source": [
    "import datetime\n",
    "import numpy as np\n",
    "import pandas as pd\n",
    "\n",
    "import plotly.graph_objects as go\n",
    "from ipywidgets import widgets"
   ]
  },
  {
   "cell_type": "code",
   "execution_count": 2,
   "metadata": {},
   "outputs": [],
   "source": [
    "import os\n",
    "import json\n",
    "import requests\n",
    "import pandas as pd\n",
    "from pyspark.sql import SparkSession"
   ]
  },
  {
   "cell_type": "code",
   "execution_count": 3,
   "metadata": {},
   "outputs": [],
   "source": [
    "FILE1 = 'data-vol-1/medicare-geo/MUP_PHY_R20_P04_V10_D18_Prov_Svc.csv'"
   ]
  },
  {
   "cell_type": "code",
   "execution_count": 4,
   "metadata": {},
   "outputs": [],
   "source": [
    "STRATIFY = 'Rndrng_Prvdr_Zip5'"
   ]
  },
  {
   "cell_type": "code",
   "execution_count": 5,
   "metadata": {},
   "outputs": [],
   "source": [
    "spark = SparkSession.builder.appName(\"PhysiciansProvider\").getOrCreate()\n",
    "pardf = spark.read.parquet('state.parquet/Rndrng_Prvdr_State_Abrvtn=CA')"
   ]
  },
  {
   "cell_type": "code",
   "execution_count": 6,
   "metadata": {},
   "outputs": [],
   "source": [
    "def total(lookup, df=pardf):\n",
    "    agg_df = pardf.groupby(STRATIFY, lookup).count().toPandas()\n",
    "    return agg_df"
   ]
  },
  {
   "cell_type": "code",
   "execution_count": 7,
   "metadata": {},
   "outputs": [],
   "source": [
    "layout = go.Layout(\n",
    "    xaxis=dict(\n",
    "        title='Count',\n",
    "        titlefont=dict(\n",
    "            family='Arial, sans-serif',\n",
    "            size=12,\n",
    "            color='lightgrey'\n",
    "        ),\n",
    "        showticklabels=True,\n",
    "        tickangle=45,\n",
    "        tickfont=dict(\n",
    "            family='Old Standard TT, serif',\n",
    "            size=12,\n",
    "            color='black'\n",
    "        ),\n",
    "    ),\n",
    "    yaxis=dict(\n",
    "        title='Provider',\n",
    "        titlefont=dict(\n",
    "            family='Arial, sans-serif',\n",
    "            size=8,\n",
    "            color='lightgrey'\n",
    "        ),\n",
    "        showticklabels=True,\n",
    "        tickangle=45,\n",
    "        tickfont=dict(\n",
    "            family='Old Standard TT, serif',\n",
    "            size=8,\n",
    "            color='black'\n",
    "        )\n",
    "    )\n",
    ")"
   ]
  },
  {
   "cell_type": "markdown",
   "metadata": {},
   "source": [
    "# Static Variables"
   ]
  },
  {
   "cell_type": "code",
   "execution_count": 8,
   "metadata": {},
   "outputs": [],
   "source": [
    "LOOKUP = 'Rndrng_Prvdr_Last_Org_Name'"
   ]
  },
  {
   "cell_type": "markdown",
   "metadata": {},
   "source": [
    "# Lookup by zip"
   ]
  },
  {
   "cell_type": "code",
   "execution_count": 9,
   "metadata": {},
   "outputs": [],
   "source": [
    "agg_df = total(LOOKUP)\n",
    "agg_df.sort_values(by='count', ascending=True, inplace=True)"
   ]
  },
  {
   "cell_type": "code",
   "execution_count": 10,
   "metadata": {},
   "outputs": [],
   "source": [
    "state = widgets.Dropdown(\n",
    "    options=sorted(list(agg_df['Rndrng_Prvdr_Zip5'].unique())),\n",
    "    value='94536',\n",
    "    description='Zip Code:',\n",
    ")\n",
    "\n",
    "trace = go.Bar(x=agg_df['count'], y=agg_df[LOOKUP],\n",
    "               name='Count', orientation='h')\n",
    "\n",
    "g = go.FigureWidget(data=[trace], layout=layout)"
   ]
  },
  {
   "cell_type": "code",
   "execution_count": 11,
   "metadata": {},
   "outputs": [],
   "source": [
    "def validate():\n",
    "    if state.value in agg_df['Rndrng_Prvdr_Zip5'].unique():\n",
    "        return True\n",
    "    else:\n",
    "        return False\n",
    "\n",
    "\n",
    "def response(change):\n",
    "    if validate():\n",
    "        filter_list = [i for i in agg_df['Rndrng_Prvdr_Zip5'] == state.value]\n",
    "        temp_df = agg_df[filter_list]\n",
    "        x = temp_df['count']\n",
    "        y = temp_df[LOOKUP]\n",
    "        with g.batch_update():\n",
    "            g.data[0].x = x\n",
    "            g.data[0].y = y\n",
    "\n",
    "state.observe(response, names=\"value\")"
   ]
  },
  {
   "cell_type": "code",
   "execution_count": 12,
   "metadata": {
    "scrolled": false
   },
   "outputs": [
    {
     "data": {
      "application/vnd.jupyter.widget-view+json": {
       "model_id": "5c7ff827b8a749bf8e76038f4b9bb93e",
       "version_major": 2,
       "version_minor": 0
      },
      "text/plain": [
       "VBox(children=(HBox(children=(Dropdown(description='Zip Code:', index=915, options=('29425', '33136', '62677',…"
      ]
     },
     "metadata": {},
     "output_type": "display_data"
    }
   ],
   "source": [
    "container = widgets.HBox([state])\n",
    "widgets.VBox([container, g])"
   ]
  },
  {
   "cell_type": "code",
   "execution_count": null,
   "metadata": {},
   "outputs": [],
   "source": []
  }
 ],
 "metadata": {
  "jupytext": {
   "notebook_metadata_filter": "all"
  },
  "kernelspec": {
   "display_name": "Python 3",
   "language": "python",
   "name": "python3"
  },
  "language_info": {
   "codemirror_mode": {
    "name": "ipython",
    "version": 3
   },
   "file_extension": ".py",
   "mimetype": "text/x-python",
   "name": "python",
   "nbconvert_exporter": "python",
   "pygments_lexer": "ipython3",
   "version": "3.8.3"
  },
  "plotly": {
   "description": "Interactive Data Analysis with Plotly",
   "display_as": "chart_events",
   "language": "python",
   "layout": "base",
   "name": "Interactive Data Analysis with FigureWidget ipywidgets",
   "order": 3,
   "page_type": "example_index",
   "permalink": "python/figurewidget-app/",
   "redirect_from": "/python/slider-widget/",
   "thumbnail": "thumbnail/multi-widget.jpg"
  }
 },
 "nbformat": 4,
 "nbformat_minor": 5
}
